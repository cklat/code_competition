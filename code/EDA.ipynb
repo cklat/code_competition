{
 "cells": [
  {
   "cell_type": "code",
   "execution_count": 60,
   "metadata": {},
   "outputs": [],
   "source": [
    "import numpy as np\n",
    "import pandas as pd\n",
    "import matplotlib.pyplot as plt\n",
    "import seaborn as sns\n",
    "color = sns.color_palette()\n",
    "\n",
    "import warnings\n",
    "warnings.filterwarnings('ignore')\n",
    "\n",
    "%matplotlib inline"
   ]
  },
  {
   "cell_type": "markdown",
   "metadata": {},
   "source": [
    "\n",
    "\n",
    "### Some facts about the data\n",
    "\n"
   ]
  },
  {
   "cell_type": "markdown",
   "metadata": {},
   "source": [
    " "
   ]
  },
  {
   "cell_type": "code",
   "execution_count": 103,
   "metadata": {},
   "outputs": [
    {
     "name": "stdout",
     "output_type": "stream",
     "text": [
      "train_df shape: (15221, 13)\n",
      "test_df shape: (1000, 12)\n"
     ]
    }
   ],
   "source": [
    "train_df = pd.read_csv(\"../data/verkehrsunfaelle_train.csv\").drop(['Unnamed: 0'],axis=1)\n",
    "test_df = pd.read_csv(\"../data/verkehrsunfaelle_test.csv\").drop(['Unnamed: 0'],axis=1)\n",
    "\n",
    "print(\"train_df shape: \" + str(train_df.shape))\n",
    "print(\"test_df shape: \" + str(test_df.shape))"
   ]
  },
  {
   "cell_type": "markdown",
   "metadata": {},
   "source": [
    "<br>\n",
    "<br>\n",
    "~15k rows of training data seems to be a quite low number to train a NN with TensorFlow etc. However, XGBoost, LightGBM or other gradient boosting algorithms should be promising for this kind of dataset, so we'll only concentrate on this kind of models and try to beat naive benchmarks that we set.\n",
    "\n",
    "~1k rows of test data is also a fair number that probably can be fairly good approximated by a train/test split of the training data without loosing much data for the training itself. Of course, assuming that the distribution of the training and test data is roughly the same.\n",
    "<br>\n",
    "<br>"
   ]
  },
  {
   "cell_type": "code",
   "execution_count": 3,
   "metadata": {},
   "outputs": [
    {
     "data": {
      "text/html": [
       "<div>\n",
       "<style scoped>\n",
       "    .dataframe tbody tr th:only-of-type {\n",
       "        vertical-align: middle;\n",
       "    }\n",
       "\n",
       "    .dataframe tbody tr th {\n",
       "        vertical-align: top;\n",
       "    }\n",
       "\n",
       "    .dataframe thead th {\n",
       "        text-align: right;\n",
       "    }\n",
       "</style>\n",
       "<table border=\"1\" class=\"dataframe\">\n",
       "  <thead>\n",
       "    <tr style=\"text-align: right;\">\n",
       "      <th></th>\n",
       "      <th>Strassenklasse</th>\n",
       "      <th>Unfalldatum</th>\n",
       "      <th>Alter</th>\n",
       "      <th>Unfallklasse</th>\n",
       "      <th>Unfallschwere</th>\n",
       "      <th>Lichtverhältnisse</th>\n",
       "      <th>Verletzte Personen</th>\n",
       "      <th>Anzahl Fahrzeuge</th>\n",
       "      <th>Bodenbeschaffenheit</th>\n",
       "      <th>Geschlecht</th>\n",
       "      <th>Zeit (24h)</th>\n",
       "      <th>Fahrzeugtyp</th>\n",
       "      <th>Wetterlage</th>\n",
       "    </tr>\n",
       "  </thead>\n",
       "  <tbody>\n",
       "    <tr>\n",
       "      <th>0</th>\n",
       "      <td>Bundesstrasse</td>\n",
       "      <td>23. Jan.</td>\n",
       "      <td>59</td>\n",
       "      <td>Fahrer</td>\n",
       "      <td>1</td>\n",
       "      <td>Tageslicht: Strassenbeleuchtung vorhanden</td>\n",
       "      <td>2</td>\n",
       "      <td>2</td>\n",
       "      <td>trocken</td>\n",
       "      <td>männlich</td>\n",
       "      <td>1330</td>\n",
       "      <td>LKW ab 7.5t</td>\n",
       "      <td>Gut</td>\n",
       "    </tr>\n",
       "    <tr>\n",
       "      <th>1</th>\n",
       "      <td>Autobahn</td>\n",
       "      <td>17-May-11</td>\n",
       "      <td>48</td>\n",
       "      <td>Fahrer</td>\n",
       "      <td>1</td>\n",
       "      <td>Tageslicht: Strassenbeleuchtung vorhanden</td>\n",
       "      <td>2</td>\n",
       "      <td>4</td>\n",
       "      <td>trocken</td>\n",
       "      <td>weiblich</td>\n",
       "      <td>1724</td>\n",
       "      <td>Auto</td>\n",
       "      <td>Gut</td>\n",
       "    </tr>\n",
       "    <tr>\n",
       "      <th>2</th>\n",
       "      <td>nicht klassifiziert</td>\n",
       "      <td>14. Feb.</td>\n",
       "      <td>56</td>\n",
       "      <td>Fahrer</td>\n",
       "      <td>2</td>\n",
       "      <td>Tageslicht: Strassenbeleuchtung vorhanden</td>\n",
       "      <td>1</td>\n",
       "      <td>1</td>\n",
       "      <td>nass / feucht</td>\n",
       "      <td>männlich</td>\n",
       "      <td>1345</td>\n",
       "      <td>Mottorrad (500cc)</td>\n",
       "      <td>Gut</td>\n",
       "    </tr>\n",
       "    <tr>\n",
       "      <th>3</th>\n",
       "      <td>Bundesstrasse</td>\n",
       "      <td>31-Oct-12</td>\n",
       "      <td>66</td>\n",
       "      <td>Fahrer</td>\n",
       "      <td>1</td>\n",
       "      <td>Dunkelheit: Strassenbeleuchtung vorhanden und ...</td>\n",
       "      <td>3</td>\n",
       "      <td>2</td>\n",
       "      <td>nass / feucht</td>\n",
       "      <td>weiblich</td>\n",
       "      <td>1830</td>\n",
       "      <td>Auto</td>\n",
       "      <td>Regen</td>\n",
       "    </tr>\n",
       "    <tr>\n",
       "      <th>4</th>\n",
       "      <td>Bundesstrasse</td>\n",
       "      <td>3. Nov.</td>\n",
       "      <td>33</td>\n",
       "      <td>Fahrer</td>\n",
       "      <td>2</td>\n",
       "      <td>Dunkelheit: keine Strassenbeleuchtung</td>\n",
       "      <td>1</td>\n",
       "      <td>1</td>\n",
       "      <td>nass / feucht</td>\n",
       "      <td>männlich</td>\n",
       "      <td>15</td>\n",
       "      <td>Auto</td>\n",
       "      <td>Gut</td>\n",
       "    </tr>\n",
       "  </tbody>\n",
       "</table>\n",
       "</div>"
      ],
      "text/plain": [
       "        Strassenklasse Unfalldatum  Alter Unfallklasse  Unfallschwere  \\\n",
       "0        Bundesstrasse    23. Jan.     59       Fahrer              1   \n",
       "1             Autobahn   17-May-11     48       Fahrer              1   \n",
       "2  nicht klassifiziert    14. Feb.     56       Fahrer              2   \n",
       "3        Bundesstrasse   31-Oct-12     66       Fahrer              1   \n",
       "4        Bundesstrasse     3. Nov.     33       Fahrer              2   \n",
       "\n",
       "                                   Lichtverhältnisse  Verletzte Personen  \\\n",
       "0          Tageslicht: Strassenbeleuchtung vorhanden                   2   \n",
       "1          Tageslicht: Strassenbeleuchtung vorhanden                   2   \n",
       "2          Tageslicht: Strassenbeleuchtung vorhanden                   1   \n",
       "3  Dunkelheit: Strassenbeleuchtung vorhanden und ...                   3   \n",
       "4              Dunkelheit: keine Strassenbeleuchtung                   1   \n",
       "\n",
       "   Anzahl Fahrzeuge Bodenbeschaffenheit Geschlecht  Zeit (24h)  \\\n",
       "0                 2             trocken   männlich        1330   \n",
       "1                 4             trocken   weiblich        1724   \n",
       "2                 1       nass / feucht   männlich        1345   \n",
       "3                 2       nass / feucht   weiblich        1830   \n",
       "4                 1       nass / feucht   männlich          15   \n",
       "\n",
       "         Fahrzeugtyp Wetterlage  \n",
       "0        LKW ab 7.5t        Gut  \n",
       "1               Auto        Gut  \n",
       "2  Mottorrad (500cc)        Gut  \n",
       "3               Auto      Regen  \n",
       "4               Auto        Gut  "
      ]
     },
     "execution_count": 3,
     "metadata": {},
     "output_type": "execute_result"
    }
   ],
   "source": [
    "train_df.head()"
   ]
  },
  {
   "cell_type": "code",
   "execution_count": 4,
   "metadata": {},
   "outputs": [
    {
     "data": {
      "text/html": [
       "<div>\n",
       "<style scoped>\n",
       "    .dataframe tbody tr th:only-of-type {\n",
       "        vertical-align: middle;\n",
       "    }\n",
       "\n",
       "    .dataframe tbody tr th {\n",
       "        vertical-align: top;\n",
       "    }\n",
       "\n",
       "    .dataframe thead th {\n",
       "        text-align: right;\n",
       "    }\n",
       "</style>\n",
       "<table border=\"1\" class=\"dataframe\">\n",
       "  <thead>\n",
       "    <tr style=\"text-align: right;\">\n",
       "      <th></th>\n",
       "      <th>Strassenklasse</th>\n",
       "      <th>Unfalldatum</th>\n",
       "      <th>Alter</th>\n",
       "      <th>Unfallklasse</th>\n",
       "      <th>Lichtverhältnisse</th>\n",
       "      <th>Verletzte Personen</th>\n",
       "      <th>Anzahl Fahrzeuge</th>\n",
       "      <th>Bodenbeschaffenheit</th>\n",
       "      <th>Geschlecht</th>\n",
       "      <th>Zeit (24h)</th>\n",
       "      <th>Fahrzeugtyp</th>\n",
       "      <th>Wetterlage</th>\n",
       "    </tr>\n",
       "  </thead>\n",
       "  <tbody>\n",
       "    <tr>\n",
       "      <th>0</th>\n",
       "      <td>Bundesstrasse</td>\n",
       "      <td>8. Dez.</td>\n",
       "      <td>37</td>\n",
       "      <td>Fahrer</td>\n",
       "      <td>Tageslicht: Strassenbeleuchtung vorhanden</td>\n",
       "      <td>2</td>\n",
       "      <td>2</td>\n",
       "      <td>nass / feucht</td>\n",
       "      <td>weiblich</td>\n",
       "      <td>1100</td>\n",
       "      <td>Auto</td>\n",
       "      <td>Gut</td>\n",
       "    </tr>\n",
       "    <tr>\n",
       "      <th>1</th>\n",
       "      <td>Bundesstrasse</td>\n",
       "      <td>29-May-10</td>\n",
       "      <td>43</td>\n",
       "      <td>Fahrer</td>\n",
       "      <td>Tageslicht: Strassenbeleuchtung vorhanden</td>\n",
       "      <td>3</td>\n",
       "      <td>2</td>\n",
       "      <td>nass / feucht</td>\n",
       "      <td>männlich</td>\n",
       "      <td>1710</td>\n",
       "      <td>Auto</td>\n",
       "      <td>Gut</td>\n",
       "    </tr>\n",
       "    <tr>\n",
       "      <th>2</th>\n",
       "      <td>nicht klassifiziert</td>\n",
       "      <td>04-Mar-09</td>\n",
       "      <td>63</td>\n",
       "      <td>Passagier</td>\n",
       "      <td>Tageslicht: Strassenbeleuchtung vorhanden</td>\n",
       "      <td>1</td>\n",
       "      <td>1</td>\n",
       "      <td>trocken</td>\n",
       "      <td>weiblich</td>\n",
       "      <td>1500</td>\n",
       "      <td>Bus</td>\n",
       "      <td>Gut</td>\n",
       "    </tr>\n",
       "    <tr>\n",
       "      <th>3</th>\n",
       "      <td>nicht klassifiziert</td>\n",
       "      <td>11-May-09</td>\n",
       "      <td>13</td>\n",
       "      <td>Fussgänger</td>\n",
       "      <td>Tageslicht: Strassenbeleuchtung vorhanden</td>\n",
       "      <td>1</td>\n",
       "      <td>1</td>\n",
       "      <td>trocken</td>\n",
       "      <td>männlich</td>\n",
       "      <td>1745</td>\n",
       "      <td>Auto</td>\n",
       "      <td>Gut</td>\n",
       "    </tr>\n",
       "    <tr>\n",
       "      <th>4</th>\n",
       "      <td>Bundesstrasse</td>\n",
       "      <td>5. Apr.</td>\n",
       "      <td>29</td>\n",
       "      <td>Fahrer</td>\n",
       "      <td>Tageslicht: Strassenbeleuchtung vorhanden</td>\n",
       "      <td>1</td>\n",
       "      <td>1</td>\n",
       "      <td>trocken</td>\n",
       "      <td>weiblich</td>\n",
       "      <td>1900</td>\n",
       "      <td>Auto</td>\n",
       "      <td>Gut</td>\n",
       "    </tr>\n",
       "  </tbody>\n",
       "</table>\n",
       "</div>"
      ],
      "text/plain": [
       "        Strassenklasse Unfalldatum  Alter Unfallklasse  \\\n",
       "0        Bundesstrasse     8. Dez.     37       Fahrer   \n",
       "1        Bundesstrasse   29-May-10     43       Fahrer   \n",
       "2  nicht klassifiziert   04-Mar-09     63    Passagier   \n",
       "3  nicht klassifiziert   11-May-09     13   Fussgänger   \n",
       "4        Bundesstrasse     5. Apr.     29       Fahrer   \n",
       "\n",
       "                           Lichtverhältnisse  Verletzte Personen  \\\n",
       "0  Tageslicht: Strassenbeleuchtung vorhanden                   2   \n",
       "1  Tageslicht: Strassenbeleuchtung vorhanden                   3   \n",
       "2  Tageslicht: Strassenbeleuchtung vorhanden                   1   \n",
       "3  Tageslicht: Strassenbeleuchtung vorhanden                   1   \n",
       "4  Tageslicht: Strassenbeleuchtung vorhanden                   1   \n",
       "\n",
       "   Anzahl Fahrzeuge Bodenbeschaffenheit Geschlecht  Zeit (24h) Fahrzeugtyp  \\\n",
       "0                 2       nass / feucht   weiblich        1100        Auto   \n",
       "1                 2       nass / feucht   männlich        1710        Auto   \n",
       "2                 1             trocken   weiblich        1500         Bus   \n",
       "3                 1             trocken   männlich        1745        Auto   \n",
       "4                 1             trocken   weiblich        1900        Auto   \n",
       "\n",
       "  Wetterlage  \n",
       "0        Gut  \n",
       "1        Gut  \n",
       "2        Gut  \n",
       "3        Gut  \n",
       "4        Gut  "
      ]
     },
     "execution_count": 4,
     "metadata": {},
     "output_type": "execute_result"
    }
   ],
   "source": [
    "test_df.head()"
   ]
  },
  {
   "cell_type": "markdown",
   "metadata": {},
   "source": [
    "<br>\n",
    "A little more info:\n",
    "<br>\n",
    "<br>"
   ]
  },
  {
   "cell_type": "code",
   "execution_count": 117,
   "metadata": {},
   "outputs": [
    {
     "name": "stdout",
     "output_type": "stream",
     "text": [
      "<class 'pandas.core.frame.DataFrame'>\n",
      "RangeIndex: 15221 entries, 0 to 15220\n",
      "Data columns (total 13 columns):\n",
      "Strassenklasse         15221 non-null object\n",
      "Unfalldatum            15221 non-null object\n",
      "Alter                  15221 non-null int64\n",
      "Unfallklasse           15221 non-null object\n",
      "Unfallschwere          15221 non-null int64\n",
      "Lichtverhältnisse      15221 non-null object\n",
      "Verletzte Personen     15221 non-null int64\n",
      "Anzahl Fahrzeuge       15221 non-null int64\n",
      "Bodenbeschaffenheit    15221 non-null object\n",
      "Geschlecht             15221 non-null object\n",
      "Zeit (24h)             15221 non-null int64\n",
      "Fahrzeugtyp            15221 non-null object\n",
      "Wetterlage             15221 non-null object\n",
      "dtypes: int64(5), object(8)\n",
      "memory usage: 1.5+ MB\n",
      "None\n"
     ]
    }
   ],
   "source": [
    "print(train_df.info())"
   ]
  },
  {
   "cell_type": "markdown",
   "metadata": {},
   "source": [
    "<br>\n",
    "We got only 13 columns none of which have missing values. That's great news"
   ]
  },
  {
   "cell_type": "markdown",
   "metadata": {},
   "source": [
    "<br>\n",
    "Let's plot the target variable ('Unfallschwere') according to their occurences\n",
    "<br>"
   ]
  },
  {
   "cell_type": "markdown",
   "metadata": {},
   "source": [
    "\n",
    "\n",
    "\n",
    "\n",
    " "
   ]
  },
  {
   "cell_type": "code",
   "execution_count": 115,
   "metadata": {},
   "outputs": [
    {
     "data": {
      "image/png": "[encoded data removed]",
      "text/plain": [
       "<Figure size 864x576 with 1 Axes>"
      ]
     },
     "metadata": {
      "needs_background": "light"
     },
     "output_type": "display_data"
    }
   ],
   "source": [
    "unfaelle = train_df[\"Unfallschwere\"].values\n",
    "\n",
    "plt.figure(figsize=(12, 8))\n",
    "sns.distplot(unfaelle, kde=False)\n",
    "plt.xlabel('Unfallschwere')\n",
    "plt.ylabel('Occurences')\n",
    "plt.show()"
   ]
  },
  {
   "cell_type": "markdown",
   "metadata": {},
   "source": [
    "<br>\n",
    "<br>\n",
    "Seems we have a quite unbalanced dataset in terms of the distribution of the target variable. It might be quite hard to predict the class '3' cases with so little examples of this class. Thus we might have to do something against this imbalance while training.\n",
    "<br>\n",
    "<br>"
   ]
  },
  {
   "cell_type": "markdown",
   "metadata": {},
   "source": [
    "### Exploration of Features"
   ]
  },
  {
   "cell_type": "markdown",
   "metadata": {},
   "source": [
    "We have a fairly small amount of features in the dataset, therefore we can make a little effort here to look deeper into those one by one and see if we can find some useful insights.\n",
    "\n"
   ]
  },
  {
   "cell_type": "markdown",
   "metadata": {},
   "source": [
    "#### Feature 'Strassenklasse':"
   ]
  },
  {
   "cell_type": "code",
   "execution_count": 14,
   "metadata": {},
   "outputs": [
    {
     "data": {
      "text/plain": [
       "Strassenklasse\n",
       "Autobahn                 899\n",
       "Bundesstrasse           5733\n",
       "Kraftfahrzeugstrasse     343\n",
       "Landesstrasse            902\n",
       "nicht klassifiziert     7330\n",
       "unbefestigte Strasse      14\n",
       "Name: Strassenklasse, dtype: int64"
      ]
     },
     "execution_count": 14,
     "metadata": {},
     "output_type": "execute_result"
    }
   ],
   "source": [
    "train_df['Strassenklasse'].unique()\n",
    "\n",
    "train_df.groupby('Strassenklasse')['Strassenklasse'].count()"
   ]
  },
  {
   "cell_type": "code",
   "execution_count": 123,
   "metadata": {},
   "outputs": [
    {
     "data": {
      "text/html": [
       "<div>\n",
       "<style scoped>\n",
       "    .dataframe tbody tr th:only-of-type {\n",
       "        vertical-align: middle;\n",
       "    }\n",
       "\n",
       "    .dataframe tbody tr th {\n",
       "        vertical-align: top;\n",
       "    }\n",
       "\n",
       "    .dataframe thead th {\n",
       "        text-align: right;\n",
       "    }\n",
       "</style>\n",
       "<table border=\"1\" class=\"dataframe\">\n",
       "  <thead>\n",
       "    <tr style=\"text-align: right;\">\n",
       "      <th>Strassenklasse</th>\n",
       "      <th>Autobahn</th>\n",
       "      <th>Bundesstrasse</th>\n",
       "      <th>Kraftfahrzeugstrasse</th>\n",
       "      <th>Landesstrasse</th>\n",
       "      <th>nicht klassifiziert</th>\n",
       "      <th>unbefestigte Strasse</th>\n",
       "      <th>All</th>\n",
       "    </tr>\n",
       "    <tr>\n",
       "      <th>Unfallschwere</th>\n",
       "      <th></th>\n",
       "      <th></th>\n",
       "      <th></th>\n",
       "      <th></th>\n",
       "      <th></th>\n",
       "      <th></th>\n",
       "      <th></th>\n",
       "    </tr>\n",
       "  </thead>\n",
       "  <tbody>\n",
       "    <tr>\n",
       "      <th>1</th>\n",
       "      <td>0.054070</td>\n",
       "      <td>0.333618</td>\n",
       "      <td>0.020892</td>\n",
       "      <td>0.052559</td>\n",
       "      <td>0.424676</td>\n",
       "      <td>0.000788</td>\n",
       "      <td>0.886604</td>\n",
       "    </tr>\n",
       "    <tr>\n",
       "      <th>2</th>\n",
       "      <td>0.004533</td>\n",
       "      <td>0.039616</td>\n",
       "      <td>0.001314</td>\n",
       "      <td>0.006504</td>\n",
       "      <td>0.054201</td>\n",
       "      <td>0.000131</td>\n",
       "      <td>0.106301</td>\n",
       "    </tr>\n",
       "    <tr>\n",
       "      <th>3</th>\n",
       "      <td>0.000460</td>\n",
       "      <td>0.003416</td>\n",
       "      <td>0.000328</td>\n",
       "      <td>0.000197</td>\n",
       "      <td>0.002694</td>\n",
       "      <td>0.000000</td>\n",
       "      <td>0.007095</td>\n",
       "    </tr>\n",
       "    <tr>\n",
       "      <th>All</th>\n",
       "      <td>0.059063</td>\n",
       "      <td>0.376651</td>\n",
       "      <td>0.022535</td>\n",
       "      <td>0.059260</td>\n",
       "      <td>0.481572</td>\n",
       "      <td>0.000920</td>\n",
       "      <td>1.000000</td>\n",
       "    </tr>\n",
       "  </tbody>\n",
       "</table>\n",
       "</div>"
      ],
      "text/plain": [
       "Strassenklasse  Autobahn  Bundesstrasse  Kraftfahrzeugstrasse  Landesstrasse  \\\n",
       "Unfallschwere                                                                  \n",
       "1               0.054070       0.333618              0.020892       0.052559   \n",
       "2               0.004533       0.039616              0.001314       0.006504   \n",
       "3               0.000460       0.003416              0.000328       0.000197   \n",
       "All             0.059063       0.376651              0.022535       0.059260   \n",
       "\n",
       "Strassenklasse  nicht klassifiziert  unbefestigte Strasse       All  \n",
       "Unfallschwere                                                        \n",
       "1                          0.424676              0.000788  0.886604  \n",
       "2                          0.054201              0.000131  0.106301  \n",
       "3                          0.002694              0.000000  0.007095  \n",
       "All                        0.481572              0.000920  1.000000  "
      ]
     },
     "execution_count": 123,
     "metadata": {},
     "output_type": "execute_result"
    }
   ],
   "source": [
    "pd.crosstab(train_df[\"Unfallschwere\"], train_df[\"Strassenklasse\"], normalize=True, margins=True)"
   ]
  },
  {
   "cell_type": "code",
   "execution_count": 128,
   "metadata": {},
   "outputs": [
    {
     "data": {
      "text/plain": [
       "<matplotlib.axes._subplots.AxesSubplot at 0x12191e470>"
      ]
     },
     "execution_count": 128,
     "metadata": {},
     "output_type": "execute_result"
    },
    {
     "data": {
      "image/png": "[encoded data removed]",
      "text/plain": [
       "<Figure size 864x576 with 1 Axes>"
      ]
     },
     "metadata": {
      "needs_background": "light"
     },
     "output_type": "display_data"
    }
   ],
   "source": [
    "plt.figure(figsize=(12,8))\n",
    "\n",
    "sns.countplot(x='Unfallschwere', hue='Strassenklasse', data=train_df)"
   ]
  },
  {
   "cell_type": "markdown",
   "metadata": {},
   "source": [
    "So street types ('Strassenklasse') seem to be distributed equally within a class across all the classes of accident severity ('Unfallschwere'). Prior to this insight, we might have proposed the hypothesis that accident severity increases in numbers where people are allowed or tend to drive faster."
   ]
  },
  {
   "cell_type": "markdown",
   "metadata": {},
   "source": [
    "#### Feature 'Unfalldatum'"
   ]
  },
  {
   "cell_type": "code",
   "execution_count": 132,
   "metadata": {},
   "outputs": [
    {
     "data": {
      "text/plain": [
       "array(['23. Jan.', '17-May-11', '14. Feb.', '31-Oct-12', '3. Nov.',\n",
       "       '31-May-09', '24. Okt.', '25. Jul.', '7. Jan.', '10. Sep.',\n",
       "       '21. Nov.', '26. Nov.', '10-Dec-09', '19-Dec-12', '09-Dec-11',\n",
       "       '11. Okt.', '19. Jan.', '20-Oct-12', '15. Aug.', '15. Jun.',\n",
       "       '24. Aug.', '14. Sep.', '07-Oct-11', '5. Jul.', '9. Sep.',\n",
       "       '27. Sep.', '2. Feb.', '13. Feb.', '10. Apr.', '24. Feb.',\n",
       "       '11-Dec-10', '28. Jun.', '31-May-12', '5. Nov.', '8. Aug.',\n",
       "       '9. Jul.', '17-May-12', '9. Okt.', '01-Mar-11', '5. Jun.',\n",
       "       '27. Apr.', '23. Aug.', '01-Oct-10', '13. Aug.', '27. Jul.',\n",
       "       '18. Aug.', '23. Mai.', '4. Dez.', '31-Dec-12', '23. Sep.',\n",
       "       '3. Jun.', '24-Dec-09', '20-May-09', '14. Mai.', '30-Dec-10',\n",
       "       '14. Jun.', '2. Mai.', '17. Feb.', '24. Jun.', '22. Jul.',\n",
       "       '31. Jul.', '28-Oct-09', '26. Okt.', '29. Jun.', '31. Okt.',\n",
       "       '05-Oct-11', '10. Nov.', '21. Sep.', '7. Dez.', '11. Jan.',\n",
       "       '8. Dez.', '06-Mar-12', '3. Aug.', '18. Jan.', '7. Jul.',\n",
       "       '12. Jun.', '01-May-10', '27-Dec-12', '30. Jan.', '04-Mar-09',\n",
       "       '23. Jun.', '25. Apr.', '1. Jun.', '6. Apr.', '25. Jan.',\n",
       "       '11. Feb.', '04-Dec-09', '04-Mar-10', '28. Mai.', '28. Sep.',\n",
       "       '5. Aug.', '22. Apr.', '24. Nov.', '1. Feb.', '17. Okt.',\n",
       "       '15. Jul.', '4. Mai.', '8. Feb.', '01-Dec-09', '17. Jul.',\n",
       "       '9. Nov.', '19-Dec-09', '11. Aug.', '3. Dez.', '11-Mar-10',\n",
       "       '26. Dez.', '29. Aug.', '4. Sep.', '14-Oct-09', '17-Oct-12',\n",
       "       '8. Okt.', '13. Okt.', '9. Aug.', '9. Jun.', '5. Mrz.', '20. Jul.',\n",
       "       '16-Dec-11', '17. Sep.', '19. Aug.', '23. Jul.', '26. Sep.',\n",
       "       '18. Feb.', '27-Mar-12', '5. Mai.', '15. Apr.', '13-Oct-11',\n",
       "       '30-May-09', '27-May-10', '03-Oct-12', '9. Feb.', '10. Jan.',\n",
       "       '18. Nov.', '10. Aug.', '10. Jul.', '19. Apr.', '19. Sep.',\n",
       "       '29. Sep.', '7. Apr.', '14-Mar-10', '28. Feb.', '4. Apr.',\n",
       "       '16. Jul.', '22. Mai.', '26. Jul.', '5. Jan.', '1. Nov.',\n",
       "       '8. Nov.', '10. Feb.', '17-May-09', '31. Jan.', '3. Mrz.',\n",
       "       '10-Dec-10', '13-Oct-09', '11. Jun.', '8. Mrz.', '7. Aug.',\n",
       "       '5. Okt.', '22. Sep.', '14. Jul.', '27-May-11', '28. Apr.',\n",
       "       '22. Jan.', '30. Nov.', '06-May-09', '12-Oct-11', '26. Jun.',\n",
       "       '30. Sep.', '13. Mai.', '15-Oct-09', '13. Nov.', '7. Sep.',\n",
       "       '23. Feb.', '03-Dec-12', '9. Mai.', '15. Feb.', '1. Jan.',\n",
       "       '22. Jun.', '21. Jul.', '15. Sep.', '18. Jul.', '13. Sep.',\n",
       "       '6. Jan.', '9. Apr.', '19. Jun.', '5. Feb.', '7. Jun.', '2. Jan.',\n",
       "       '04-Oct-10', '4. Jun.', '10. Jun.', '25. Mai.', '20. Okt.',\n",
       "       '3. Jul.', '4. Nov.', '18-Oct-09', '31. Aug.', '02-Dec-10',\n",
       "       '27. Feb.', '12. Jan.', '16. Sep.', '25. Okt.', '17. Apr.',\n",
       "       '4. Aug.', '28. Jan.', '23. Nov.', '21-May-09', '11. Jul.',\n",
       "       '20-May-12', '13-Oct-12', '26. Jan.', '15-Mar-12', '24. Apr.',\n",
       "       '24. Sep.', '26. Feb.', '30. Jun.', '21. Okt.', '12. Jul.',\n",
       "       '20-Mar-10', '20. Apr.', '10-Dec-12', '23. Apr.', '6. Dez.',\n",
       "       '31-Oct-09', '29. Nov.', '30. Aug.', '29. Apr.', '05-Oct-10',\n",
       "       '04-May-12', '13. Jun.', '9. Mrz.', '12. Mrz.', '01-May-12',\n",
       "       '28-May-10', '12. Apr.', '7. Feb.', '18-Mar-11', '5. Sep.',\n",
       "       '13. Jan.', '21-Oct-10', '10-May-10', '3. Sep.', '04-Oct-11',\n",
       "       '09-Oct-12', '19. Okt.', '1. Sep.', '01-May-09', '17-Mar-09',\n",
       "       '4. Feb.', '18. Apr.', '9. Jan.', '27. Jan.', '03-Mar-09',\n",
       "       '21. Dez.', '19. Jul.', '19. Feb.', '16. Aug.', '26. Aug.',\n",
       "       '3. Feb.', '26-Oct-11', '15. Okt.', '6. Sep.', '30-Dec-11',\n",
       "       '07-May-09', '4. Jan.', '16. Jun.', '08-Oct-12', '09-May-12',\n",
       "       '02-Mar-12', '8. Jan.', '18-May-12', '28-Mar-10', '20. Jun.',\n",
       "       '29-May-09', '16. Mrz.', '20. Feb.', '21-Dec-09', '5. Apr.',\n",
       "       '8. Sep.', '07-Dec-10', '26-Mar-11', '29. Jul.', '09-Mar-11',\n",
       "       '27. Dez.', '7. Nov.', '18-Oct-11', '20. Nov.', '18-Mar-09',\n",
       "       '05-Mar-12', '20-Mar-12', '11-Dec-09', '10-May-11', '13. Jul.',\n",
       "       '13. Apr.', '21-Mar-12', '16-Dec-09', '18. Mrz.', '19. Mrz.',\n",
       "       '13-Dec-12', '27. Okt.', '31-Mar-09', '12-May-09', '19-Mar-10',\n",
       "       '22-Dec-09', '1. Aug.', '23-May-09', '21. Feb.', '28. Nov.',\n",
       "       '16. Apr.', '6. Aug.', '25. Sep.', '21-Oct-09', '20. Sep.',\n",
       "       '07-May-10', '27. Aug.', '23-Dec-09', '25-Mar-11', '05-Oct-09',\n",
       "       '20. Aug.', '15-May-09', '24-Dec-12', '04-Dec-11', '07-Oct-12',\n",
       "       '24. Jul.', '14-Dec-12', '14. Nov.', '23-Oct-10', '22. Aug.',\n",
       "       '12-Mar-09', '24. Dez.', '25-May-09', '18-Dec-12', '20-Oct-11',\n",
       "       '25. Feb.', '14. Mrz.', '15. Nov.', '1. Jul.', '19. Nov.',\n",
       "       '2. Nov.', '30. Jul.', '3. Apr.', '1. Okt.', '11. Nov.',\n",
       "       '11-Oct-12', '02-Mar-10', '02-Mar-11', '26. Apr.', '14. Aug.',\n",
       "       '11. Sep.', '05-Oct-12', '6. Jun.', '15-Oct-10', '12-May-12',\n",
       "       '18. Dez.', '16. Nov.', '6. Feb.', '27. Jun.', '21. Jun.',\n",
       "       '26-Mar-09', '17. Jun.', '16-Mar-12', '18-Oct-12', '04-May-10',\n",
       "       '26. Mrz.', '2. Aug.', '09-Dec-09', '10. Okt.', '20-Mar-09',\n",
       "       '06-Dec-11', '17-Dec-10', '19-May-10', '02-Oct-10', '12. Nov.',\n",
       "       '5. Dez.', '18. Jun.', '13-May-12', '6. Nov.', '12. Feb.',\n",
       "       '22-May-11', '17-Mar-10', '05-Dec-09', '03-May-12', '28. Jul.',\n",
       "       '17. Nov.', '25. Aug.', '31. Mai.', '8. Jun.', '28-Mar-11',\n",
       "       '13. Dez.', '08-May-10', '29. Mrz.', '12-May-11', '22-May-12',\n",
       "       '10-Mar-10', '24. Jan.', '14. Jan.', '28-May-12', '28-Oct-10',\n",
       "       '6. Jul.', '15-May-10', '26-Mar-12', '25-May-10', '07-Dec-12',\n",
       "       '2. Jun.', '17. Aug.', '17. Mai.', '29-May-12', '03-May-10',\n",
       "       '14-May-10', '30. Mai.', '1. Apr.', '2. Apr.', '09-Mar-10',\n",
       "       '21. Jan.', '24-Oct-10', '29. Jan.', '22-Dec-12', '14-Oct-10',\n",
       "       '27-Dec-09', '12. Sep.', '28-May-11', '28. Aug.', '22. Nov.',\n",
       "       '22-Mar-12', '21-Dec-11', '02-Oct-12', '23-Mar-12', '01-Dec-10',\n",
       "       '18-May-10', '18. Sep.', '26-Mar-10', '16-Mar-11', '30-Mar-10',\n",
       "       '16-Oct-09', '01-Mar-09', '4. Okt.', '29-Oct-09', '21-Mar-09',\n",
       "       '28-Oct-12', '10. Mai.', '30. Apr.', '8. Apr.', '05-Dec-10',\n",
       "       '15. Dez.', '04-Mar-12', '13-Oct-10', '8. Mai.', '12. Okt.',\n",
       "       '18-May-09', '26-Oct-12', '21. Aug.', '21-Oct-11', '20-Oct-09',\n",
       "       '24-May-12', '25-May-12', '8. Jul.', '15-Oct-12', '11-May-12',\n",
       "       '23. Dez.', '17-May-10', '24. Mai.', '14-May-12', '10-Mar-11',\n",
       "       '06-May-11', '12. Aug.', '26-Oct-09', '03-Dec-09', '07-May-12',\n",
       "       '17-Oct-11', '2. Sep.', '21. Apr.', '16-Oct-12', '27. Nov.',\n",
       "       '14. Apr.', '08-Oct-11', '06-Dec-09', '21. Mrz.', '22. Dez.',\n",
       "       '12-Dec-09', '24-May-10', '07-Dec-11', '03-Mar-10', '25. Jun.',\n",
       "       '22-May-10', '09-Mar-09', '26. Mai.', '30-Oct-09', '07-Mar-10',\n",
       "       '27-Oct-12', '11-Mar-12', '6. Mai.', '4. Jul.', '20. Mrz.',\n",
       "       '10. Dez.', '25-Mar-10', '14. Okt.', '23. Mrz.', '28. Mrz.',\n",
       "       '29. Feb.', '04-Oct-09', '11. Apr.', '17-Mar-11', '08-Dec-11',\n",
       "       '05-May-09', '19. Mai.', '19. Dez.', '01-Oct-11', '03-Oct-10',\n",
       "       '05-Mar-11', '03-Dec-10', '01-Dec-11', '2. Jul.', '22-Oct-10',\n",
       "       '06-Oct-12', '07-Mar-11', '28-Mar-09', '20. Jan.', '31-Dec-11',\n",
       "       '14. Dez.', '3. Jan.', '16. Feb.', '21. Mai.', '11-Mar-09',\n",
       "       '24. Mrz.', '2. Dez.', '10. Mrz.', '02-May-09', '22-May-09',\n",
       "       '29-Mar-11', '04-Dec-12', '17-Oct-10', '12. Mai.', '17. Jan.',\n",
       "       '27-Oct-11', '26-Dec-11', '12-Dec-11', '11. Dez.', '29-May-10',\n",
       "       '05-Dec-12', '14-Dec-09', '28. Dez.', '25. Nov.', '31-Dec-09',\n",
       "       '23-Mar-11', '11-Dec-12', '19-May-11', '19-May-09', '22. Feb.',\n",
       "       '19-Oct-11', '15. Jan.', '9. Dez.', '01-Dec-12', '17-Dec-11',\n",
       "       '04-May-11', '02-Oct-09', '09-Oct-11', '15-Mar-09', '13-May-11',\n",
       "       '08-Mar-11', '15. Mrz.', '18. Okt.', '06-Oct-09', '05-Mar-10',\n",
       "       '29-Oct-10', '13-May-10', '30-Mar-12', '1. Mai.', '16. Dez.',\n",
       "       '24-Oct-12', '3. Okt.', '12-Dec-12', '20-Oct-10', '12-May-10',\n",
       "       '04-Oct-12', '18-Dec-11', '29-Dec-10', '20-Dec-11', '22. Okt.',\n",
       "       '31-Oct-10', '15-May-11', '31-Mar-10', '27-Mar-09', '17-Oct-09',\n",
       "       '02-Mar-09', '30-May-12', '21-May-11', '16-Mar-09', '30. Mrz.',\n",
       "       '16-May-12', '20. Mai.', '11-May-10', '1. Dez.', '01-Mar-12',\n",
       "       '14-Oct-12', '28-Mar-12', '24-May-11', '27-Oct-10', '23-Mar-10',\n",
       "       '25-Oct-09', '05-May-10', '07-Oct-09', '28-Dec-11', '23-Dec-11',\n",
       "       '31-Mar-11', '21-May-10', '29. Okt.', '21-Dec-12', '22-Mar-09',\n",
       "       '31-Oct-11', '11. Mrz.', '14-Mar-11', '08-Mar-10', '09-Oct-09',\n",
       "       '30. Dez.', '15-May-12', '1. Mrz.', '09-Dec-10', '09-May-11',\n",
       "       '25-Mar-09', '09-Mar-12', '12. Dez.', '16. Jan.', '23-Mar-09',\n",
       "       '03-Oct-09', '18. Mai.', '04-Mar-11', '6. Okt.', '17. Dez.',\n",
       "       '09-May-09', '7. Mai.', '24-Mar-10', '10-Dec-11', '18-Dec-09',\n",
       "       '20-Mar-11', '02-Dec-11', '14-Dec-11', '08-May-12', '20-Dec-12',\n",
       "       '11-May-09', '07-May-11', '19-Mar-09', '18-Dec-10', '30-May-11',\n",
       "       '03-Mar-11', '26-May-10', '19-Mar-11', '12-Mar-12', '26-Dec-10',\n",
       "       '10-May-09', '31-May-10', '25-Mar-12', '16. Okt.', '23. Okt.',\n",
       "       '06-May-12', '21-Dec-10', '11-Mar-11', '01-Oct-09', '03-Dec-11',\n",
       "       '16-Oct-10', '3. Mai.', '23-May-11', '27-Dec-10', '10-Mar-12',\n",
       "       '23-May-12', '14-Mar-09', '02-May-10', '06-Mar-09', '22-Mar-10',\n",
       "       '02-May-11', '27-Oct-09', '11-Oct-11', '29. Dez.', '27. Mai.',\n",
       "       '07-Dec-09', '7. Mrz.', '13-Mar-09', '27-Dec-11', '08-Oct-09',\n",
       "       '16. Mai.', '06-Mar-10', '05-May-11', '13-Dec-09', '29-Oct-11',\n",
       "       '31-May-11', '30. Okt.', '28. Okt.', '12-Dec-10', '22. Mrz.',\n",
       "       '19-Mar-12', '16-May-10', '14-May-09', '29-Mar-10', '17-Dec-09',\n",
       "       '09-Dec-12', '24-Oct-09', '20-Dec-10', '31-Dec-10', '21-Mar-11',\n",
       "       '2. Okt.', '16-Oct-11', '11-Oct-10', '10-Oct-09', '15. Mai.',\n",
       "       '25-Dec-09', '26-May-09', '27-May-12', '24-Dec-11', '11-Oct-09',\n",
       "       '25-Oct-10', '18-May-11', '29. Mai.', '29-Oct-12', '06-May-10',\n",
       "       '22-Oct-09', '23-Oct-12', '13-Mar-12', '16-Mar-10', '25-Oct-11',\n",
       "       '31. Mrz.', '06-Oct-11', '30-May-10', '08-Dec-10', '26-Oct-10',\n",
       "       '2. Mrz.', '11. Mai.', '14-May-11', '26-May-12', '02-Oct-11',\n",
       "       '29-Dec-09', '16-Dec-10', '19-Dec-11', '17. Mrz.', '05-Dec-11',\n",
       "       '28-Dec-09', '28-May-09', '15-Dec-12', '4. Mrz.', '24-May-09',\n",
       "       '10-Oct-10', '14-Mar-12', '20-May-11', '20-May-10', '25-Dec-11',\n",
       "       '17-Mar-12', '16-Dec-12', '22-Mar-11', '16-May-09', '03-Oct-11',\n",
       "       '30-Mar-09', '27. Mrz.', '20. Dez.', '19-Dec-10', '07-Oct-10',\n",
       "       '12-Oct-12', '20-Dec-09', '07-Mar-12', '09-Oct-10', '24-Dec-10',\n",
       "       '15-Dec-11', '08-May-09', '15-Mar-11', '27-May-09', '24-Mar-11',\n",
       "       '11-May-11', '28-Dec-12', '23-Dec-10', '25-Oct-12', '22-Dec-11',\n",
       "       '28-Oct-11', '27-Mar-10', '06-Dec-10', '25-Dec-12', '06-Oct-10',\n",
       "       '29-Dec-11', '08-May-11', '03-Mar-12', '12-Mar-10', '10-May-12',\n",
       "       '19-May-12', '7. Okt.', '30-Dec-12', '04-Dec-10', '13-Dec-11',\n",
       "       '22-Dec-10', '02-Dec-09', '29-Mar-09', '23-Oct-11', '12-Oct-10',\n",
       "       '30-Oct-10', '19-Oct-10', '30-Oct-11', '13-Mar-10', '14-Oct-11',\n",
       "       '18-Mar-10', '19-Oct-12', '08-Dec-09', '23-May-10', '19-Oct-09',\n",
       "       '08-Oct-10', '26-Dec-12', '15-Dec-10', '27-Mar-11', '12-Mar-11',\n",
       "       '03-May-11', '10-Oct-11', '08-Mar-12', '03-May-09', '13-Dec-10',\n",
       "       '25. Dez.', '23-Oct-09', '11-Dec-11', '30-Oct-12', '31. Dez.',\n",
       "       '08-Mar-09', '6. Mrz.', '15-Oct-11', '14-Dec-10', '25. Mrz.',\n",
       "       '31-Mar-12', '29-Mar-12', '18-Oct-10', '06-Dec-12', '26-May-11',\n",
       "       '15-Mar-10', '04-May-09', '17-Dec-12', '09-May-10', '01-Oct-12',\n",
       "       '18-Mar-12', '13-May-09', '05-Mar-09', '16-May-11', '30-Mar-11',\n",
       "       '25-May-11', '15-Dec-09', '10-Mar-09', '22-Oct-12', '06-Mar-11',\n",
       "       '08-Dec-12', '10-Oct-12', '21-Oct-12', '01-May-11', '05-May-12',\n",
       "       '13. Mrz.', '26-Dec-09', '01-Mar-10', '24-Mar-12', '12-Oct-09',\n",
       "       '02-Dec-12', '24-Mar-09', '21-May-12'], dtype=object)"
      ]
     },
     "execution_count": 132,
     "metadata": {},
     "output_type": "execute_result"
    }
   ],
   "source": [
    "train_df[\"Unfalldatum\"].unique()"
   ]
  },
  {
   "cell_type": "code",
   "execution_count": 130,
   "metadata": {
    "scrolled": true
   },
   "outputs": [
    {
     "data": {
      "text/plain": [
       "array(['8. Dez.', '29-May-10', '04-Mar-09', '11-May-09', '5. Apr.',\n",
       "       '17. Jun.', '31. Dez.', '14. Sep.', '8. Feb.', '15. Nov.',\n",
       "       '11. Feb.', '29-May-09', '2. Apr.', '12-Oct-12', '22. Apr.',\n",
       "       '5. Jun.', '24. Feb.', '29-Oct-12', '08-Mar-11', '24. Mai.',\n",
       "       '13. Jul.', '25. Aug.', '31-Mar-09', '31. Okt.', '6. Jun.',\n",
       "       '23. Apr.', '12-Oct-09', '04-May-11', '30. Okt.', '3. Jul.',\n",
       "       '21. Jun.', '8. Mai.', '15. Jun.', '20. Apr.', '19. Aug.',\n",
       "       '22. Sep.', '30. Sep.', '9. Apr.', '24. Jul.', '26-May-09',\n",
       "       '3. Aug.', '24. Aug.', '16. Jul.', '26. Sep.', '10-Mar-11',\n",
       "       '1. Jun.', '16. Sep.', '15. Okt.', '27. Apr.', '20. Sep.',\n",
       "       '21. Jan.', '11. Aug.', '20. Jul.', '21-Dec-12', '2. Jun.',\n",
       "       '19. Jun.', '22. Nov.', '5. Nov.', '6. Feb.', '19. Mai.',\n",
       "       '19-Oct-09', '19. Nov.', '16. Jun.', '8. Sep.', '9. Feb.',\n",
       "       '8. Apr.', '18. Jul.', '1. Sep.', '13-Dec-09', '18-Mar-11',\n",
       "       '11. Mai.', '25-Oct-09', '29. Sep.', '28. Sep.', '17. Jul.',\n",
       "       '9. Jan.', '8. Nov.', '21. Apr.', '6. Mai.', '11. Jun.', '7. Aug.',\n",
       "       '3. Nov.', '14-May-12', '12. Jun.', '6. Sep.', '28. Feb.',\n",
       "       '1. Jan.', '30. Jan.', '31-May-11', '07-Dec-11', '2. Feb.',\n",
       "       '14-May-09', '5. Sep.', '07-May-10', '02-Oct-12', '24. Nov.',\n",
       "       '15-Oct-11', '27. Aug.', '27-Mar-10', '18. Apr.', '23. Nov.',\n",
       "       '26-Oct-09', '27. Nov.', '1. Nov.', '13. Jun.', '05-Dec-11',\n",
       "       '27. Jun.', '21. Jul.', '22-Oct-09', '05-Oct-11', '31. Mrz.',\n",
       "       '22. Feb.', '16-Oct-09', '26. Feb.', '18-Mar-09', '25. Feb.',\n",
       "       '12. Jul.', '15. Jan.', '4. Feb.', '28-May-10', '08-Oct-11',\n",
       "       '16. Mai.', '13. Feb.', '25. Apr.', '06-Oct-09', '25-May-12',\n",
       "       '30. Jul.', '20-Dec-12', '10. Jan.', '14. Aug.', '15. Sep.',\n",
       "       '10. Mrz.', '5. Aug.', '13. Apr.', '25. Jul.', '23. Sep.',\n",
       "       '20. Jan.', '26. Jul.', '16-Dec-12', '28. Jan.', '27. Feb.',\n",
       "       '03-Dec-11', '23-Dec-09', '16-Dec-09', '6. Aug.', '25-Dec-12',\n",
       "       '6. Mrz.', '3. Feb.', '17-Oct-10', '15. Mrz.', '4. Jan.',\n",
       "       '2. Nov.', '26. Mrz.', '24. Jun.', '11-Mar-09', '6. Nov.',\n",
       "       '13. Dez.', '14. Jul.', '14. Mrz.', '1. Aug.', '2. Dez.',\n",
       "       '25. Jan.', '13-Mar-12', '17. Jan.', '13. Aug.', '28-May-11',\n",
       "       '21. Feb.', '7. Sep.', '11. Jan.', '1. Feb.', '13-Oct-10',\n",
       "       '12-Dec-11', '18. Mai.', '7. Apr.', '9. Sep.', '22-Dec-10',\n",
       "       '20. Nov.', '13. Jan.', '09-Mar-09', '19-Oct-10', '22-Mar-12',\n",
       "       '6. Apr.', '08-Dec-11', '2. Aug.', '19. Dez.', '27. Jan.',\n",
       "       '29. Jul.', '4. Apr.', '22-Dec-11', '5. Feb.', '08-Oct-09',\n",
       "       '29. Aug.', '28. Mrz.', '29-Mar-09', '26. Nov.', '25. Jun.',\n",
       "       '22. Jul.', '22. Jun.', '22. Okt.', '05-May-10', '24. Okt.',\n",
       "       '30. Dez.', '11-Mar-10', '18. Jun.', '3. Jun.', '10. Sep.',\n",
       "       '10. Feb.', '1. Jul.', '8. Jul.', '13. Sep.', '17. Sep.',\n",
       "       '31. Mai.', '2. Okt.', '8. Aug.', '21. Nov.', '09-Dec-12',\n",
       "       '21. Dez.', '28. Okt.', '04-May-09', '30. Jun.', '26. Apr.',\n",
       "       '1. Apr.', '08-Mar-12', '3. Sep.', '15. Apr.', '19. Jan.',\n",
       "       '30-May-09', '14. Okt.', '26-Mar-12', '9. Aug.', '20. Jun.',\n",
       "       '10. Apr.', '26. Mai.', '7. Jul.', '6. Jan.', '11. Apr.',\n",
       "       '25-May-10', '14-Dec-11', '02-Dec-11', '12. Aug.', '27. Sep.',\n",
       "       '15-Dec-10', '24-May-09', '28-Oct-09', '22-May-11', '10. Aug.',\n",
       "       '28. Dez.', '12. Nov.', '31. Jul.', '12-Dec-12', '17. Feb.',\n",
       "       '10. Okt.', '05-Mar-10', '11. Nov.', '24. Apr.', '23. Mrz.',\n",
       "       '16-May-12', '19. Jul.', '4. Jun.', '28. Aug.', '4. Mrz.',\n",
       "       '18. Sep.', '18. Dez.', '29. Jun.', '15. Mai.', '06-Dec-11',\n",
       "       '21-Oct-11', '14. Jan.', '15-Dec-11', '3. Mai.', '22. Aug.',\n",
       "       '8. Mrz.', '14. Mai.', '14-May-10', '10. Nov.', '28-Mar-09',\n",
       "       '23. Okt.', '23-May-09', '31-Mar-12', '18. Nov.', '21-Mar-12',\n",
       "       '7. Jun.', '21. Aug.', '05-May-12', '17. Nov.', '28-Dec-12',\n",
       "       '5. Jul.', '24-Mar-10', '9. Jun.', '01-May-11', '14. Nov.',\n",
       "       '05-Dec-09', '19. Mrz.', '23. Jul.', '26. Aug.', '6. Dez.',\n",
       "       '21. Sep.', '23. Jan.', '18. Jan.', '12. Jan.', '10-Oct-09',\n",
       "       '20. Okt.', '7. Feb.', '15. Feb.', '03-Oct-12', '13. Nov.',\n",
       "       '11. Dez.', '30-Mar-12', '12. Apr.', '14. Jun.', '04-May-12',\n",
       "       '13-May-12', '17-Dec-10', '13-Dec-10', '13. Okt.', '24-Oct-11',\n",
       "       '28. Apr.', '16. Aug.', '09-Dec-09', '7. Mai.', '10. Jul.',\n",
       "       '06-Oct-11', '19-Mar-09', '25-May-09', '11. Okt.', '24. Sep.',\n",
       "       '27. Jul.', '9. Nov.', '9. Mrz.', '17. Apr.', '23-Oct-12',\n",
       "       '29. Nov.', '10-May-09', '2. Sep.', '03-Oct-10', '07-Dec-09',\n",
       "       '23-May-10', '15-Mar-09', '13-Oct-11', '12. Dez.', '16. Jan.',\n",
       "       '12. Feb.', '12. Sep.', '17-Mar-09', '05-Dec-10', '16. Feb.',\n",
       "       '08-Oct-12', '08-May-11', '25. Sep.', '01-Oct-12', '3. Jan.',\n",
       "       '25. Nov.', '10. Jun.', '26-May-11', '07-Oct-11', '28. Jun.',\n",
       "       '21. Mai.', '31-Oct-12', '4. Nov.', '29. Jan.', '5. Dez.',\n",
       "       '11. Mrz.', '24-Mar-11', '20. Mai.', '05-Oct-12', '8. Jan.',\n",
       "       '01-Mar-12', '23. Feb.', '6. Okt.', '09-Mar-11', '7. Mrz.',\n",
       "       '03-Oct-09', '17. Okt.', '07-Mar-10', '20-Oct-12', '26. Jan.',\n",
       "       '31. Aug.', '30. Aug.', '18-May-11', '24-May-11', '15. Jul.',\n",
       "       '10-May-10', '30. Apr.', '2. Jul.', '17-Dec-11', '18-Dec-09',\n",
       "       '18. Feb.', '26-Mar-10', '20. Dez.', '3. Apr.', '15. Aug.',\n",
       "       '27-Oct-11', '8. Jun.', '19-Oct-12', '5. Jan.', '29-Mar-11',\n",
       "       '05-Oct-10', '19-May-10', '17-May-12', '19-Dec-11', '26-Mar-11',\n",
       "       '30. Mai.', '13-Oct-09', '27. Okt.', '06-Oct-12', '15-May-12',\n",
       "       '28-Dec-11', '04-Dec-11', '22. Dez.', '10-Mar-10', '01-Mar-09',\n",
       "       '03-Mar-09', '16. Okt.', '18. Aug.', '20-Mar-12', '19. Feb.',\n",
       "       '29. Apr.', '21. Okt.', '4. Okt.', '05-Dec-12', '04-Dec-09',\n",
       "       '12-May-11', '17-Oct-09', '25. Mrz.', '01-Oct-10', '08-Dec-10',\n",
       "       '01-May-12', '2. Jan.', '11. Jul.', '30-May-12', '31-Dec-09',\n",
       "       '6. Jul.', '23. Aug.', '21-Dec-11', '4. Jul.', '10-May-11',\n",
       "       '07-Mar-11', '13. Mai.', '7. Jan.', '28. Jul.', '18-Oct-09',\n",
       "       '10-Oct-12', '9. Mai.', '09-Mar-10', '24-Dec-09', '20-Oct-09',\n",
       "       '26-Oct-12', '11-Dec-12', '17. Mai.', '21. Mrz.', '21-Oct-10',\n",
       "       '13-Dec-11', '21-Dec-10', '30-May-11', '05-Mar-11', '06-Mar-09',\n",
       "       '12-Dec-09', '07-Mar-12', '20-Oct-10', '4. Aug.', '26. Jun.',\n",
       "       '31-Mar-11', '22. Jan.', '30-Mar-11', '26-Dec-09', '05-May-09',\n",
       "       '31-Oct-09', '04-Dec-10', '30-Dec-12', '21-Oct-09', '03-May-10',\n",
       "       '2. Mai.'], dtype=object)"
      ]
     },
     "execution_count": 130,
     "metadata": {},
     "output_type": "execute_result"
    }
   ],
   "source": [
    "test_df[\"Unfalldatum\"].unique()"
   ]
  },
  {
   "cell_type": "markdown",
   "metadata": {},
   "source": [
    "The Feature 'Unfalldatum' seems to be a tricky one to handle since we have a mixture of formatting styles of the dates. We have a mixture of separating the date representation, i.e. DD.MM.YYYY and DD-MM-YYYY which looks a mixture of german and american notation. Also it appears the month names are either abbreviated in german and english spelling. However, it appears that, although the american notation with dashes ('-') is used, the order of day, month and year is uniformly documented in the german style (DD-MM-YY instead of MM-DD-YY).\n",
    "\n",
    "Moreover, we have an inconistency in documentation of the year in which the accidents happened. However, looking by the dates which do have the year documented, it seems that the data could comprise the years 2009-2012 and applies for both the training and the test data. So in order to squeeze more information out of this feature, we assume that the underlying data was captured between the years 2009-2012 and that the rows were randomly split into training and test data, thus we have no time-series analysis. "
   ]
  },
  {
   "cell_type": "markdown",
   "metadata": {},
   "source": [
    "<br>\n",
    "Let's see if there are differences in the severity of accidents regarding the months:"
   ]
  },
  {
   "cell_type": "code",
   "execution_count": 113,
   "metadata": {},
   "outputs": [],
   "source": [
    "#assume all incidents are from the same, arbitrary leapyear for the sake of plotting\n",
    "\n",
    "timeconverted_df = train_df.copy()\n",
    "timeconverted_df[\"Unfalldatum\"] = timeconverted_df[\"Unfalldatum\"].apply(lambda date: date[:date.rfind('-')] + '-2016') \\\n",
    "                                                 .apply(lambda date: date.replace(\". \", \"-\")) \\\n",
    "                                                 .apply(lambda date: date.split('.', 1)[0])[:]\n",
    "\n",
    "\n",
    "conversions = {\"Mrz\": \"Mar\",\n",
    "               \"Mai\": \"May\",\n",
    "               \"Okt\": \"Oct\",\n",
    "               \"Dez\": \"Dec\"}\n",
    "\n",
    "timeconverted_df[\"Unfalldatum\"] = timeconverted_df[\"Unfalldatum\"].replace(conversions, regex=True)\n",
    "\n"
   ]
  },
  {
   "cell_type": "code",
   "execution_count": 114,
   "metadata": {
    "scrolled": false
   },
   "outputs": [],
   "source": [
    "timeconverted_df[\"Unfalldatum\"] = pd.to_datetime(timeconverted_df[\"Unfalldatum\"], dayfirst=True)\n",
    "#timeconverted_df.set_index('Unfalldatum', inplace = True)\n"
   ]
  },
  {
   "cell_type": "code",
   "execution_count": 118,
   "metadata": {},
   "outputs": [
    {
     "data": {
      "text/html": [
       "<div>\n",
       "<style scoped>\n",
       "    .dataframe tbody tr th:only-of-type {\n",
       "        vertical-align: middle;\n",
       "    }\n",
       "\n",
       "    .dataframe tbody tr th {\n",
       "        vertical-align: top;\n",
       "    }\n",
       "\n",
       "    .dataframe thead th {\n",
       "        text-align: right;\n",
       "    }\n",
       "</style>\n",
       "<table border=\"1\" class=\"dataframe\">\n",
       "  <thead>\n",
       "    <tr style=\"text-align: right;\">\n",
       "      <th>Unfallschwere</th>\n",
       "      <th>1</th>\n",
       "      <th>2</th>\n",
       "      <th>3</th>\n",
       "      <th>All</th>\n",
       "    </tr>\n",
       "    <tr>\n",
       "      <th>Unfalldatum</th>\n",
       "      <th></th>\n",
       "      <th></th>\n",
       "      <th></th>\n",
       "      <th></th>\n",
       "    </tr>\n",
       "  </thead>\n",
       "  <tbody>\n",
       "    <tr>\n",
       "      <th>1</th>\n",
       "      <td>0.064976</td>\n",
       "      <td>0.008475</td>\n",
       "      <td>0.000460</td>\n",
       "      <td>0.073911</td>\n",
       "    </tr>\n",
       "    <tr>\n",
       "      <th>2</th>\n",
       "      <td>0.066750</td>\n",
       "      <td>0.008212</td>\n",
       "      <td>0.000197</td>\n",
       "      <td>0.075159</td>\n",
       "    </tr>\n",
       "    <tr>\n",
       "      <th>3</th>\n",
       "      <td>0.073977</td>\n",
       "      <td>0.008672</td>\n",
       "      <td>0.000460</td>\n",
       "      <td>0.083109</td>\n",
       "    </tr>\n",
       "    <tr>\n",
       "      <th>4</th>\n",
       "      <td>0.070889</td>\n",
       "      <td>0.007884</td>\n",
       "      <td>0.001051</td>\n",
       "      <td>0.079824</td>\n",
       "    </tr>\n",
       "    <tr>\n",
       "      <th>5</th>\n",
       "      <td>0.075554</td>\n",
       "      <td>0.008475</td>\n",
       "      <td>0.000591</td>\n",
       "      <td>0.084620</td>\n",
       "    </tr>\n",
       "    <tr>\n",
       "      <th>6</th>\n",
       "      <td>0.072926</td>\n",
       "      <td>0.008607</td>\n",
       "      <td>0.000394</td>\n",
       "      <td>0.081926</td>\n",
       "    </tr>\n",
       "    <tr>\n",
       "      <th>7</th>\n",
       "      <td>0.078050</td>\n",
       "      <td>0.009526</td>\n",
       "      <td>0.000854</td>\n",
       "      <td>0.088430</td>\n",
       "    </tr>\n",
       "    <tr>\n",
       "      <th>8</th>\n",
       "      <td>0.078247</td>\n",
       "      <td>0.009461</td>\n",
       "      <td>0.000657</td>\n",
       "      <td>0.088365</td>\n",
       "    </tr>\n",
       "    <tr>\n",
       "      <th>9</th>\n",
       "      <td>0.074174</td>\n",
       "      <td>0.009723</td>\n",
       "      <td>0.000526</td>\n",
       "      <td>0.084423</td>\n",
       "    </tr>\n",
       "    <tr>\n",
       "      <th>10</th>\n",
       "      <td>0.079233</td>\n",
       "      <td>0.009986</td>\n",
       "      <td>0.000526</td>\n",
       "      <td>0.089744</td>\n",
       "    </tr>\n",
       "    <tr>\n",
       "      <th>11</th>\n",
       "      <td>0.078773</td>\n",
       "      <td>0.009001</td>\n",
       "      <td>0.000460</td>\n",
       "      <td>0.088233</td>\n",
       "    </tr>\n",
       "    <tr>\n",
       "      <th>12</th>\n",
       "      <td>0.073057</td>\n",
       "      <td>0.008278</td>\n",
       "      <td>0.000920</td>\n",
       "      <td>0.082255</td>\n",
       "    </tr>\n",
       "    <tr>\n",
       "      <th>All</th>\n",
       "      <td>0.886604</td>\n",
       "      <td>0.106301</td>\n",
       "      <td>0.007095</td>\n",
       "      <td>1.000000</td>\n",
       "    </tr>\n",
       "  </tbody>\n",
       "</table>\n",
       "</div>"
      ],
      "text/plain": [
       "Unfallschwere         1         2         3       All\n",
       "Unfalldatum                                          \n",
       "1              0.064976  0.008475  0.000460  0.073911\n",
       "2              0.066750  0.008212  0.000197  0.075159\n",
       "3              0.073977  0.008672  0.000460  0.083109\n",
       "4              0.070889  0.007884  0.001051  0.079824\n",
       "5              0.075554  0.008475  0.000591  0.084620\n",
       "6              0.072926  0.008607  0.000394  0.081926\n",
       "7              0.078050  0.009526  0.000854  0.088430\n",
       "8              0.078247  0.009461  0.000657  0.088365\n",
       "9              0.074174  0.009723  0.000526  0.084423\n",
       "10             0.079233  0.009986  0.000526  0.089744\n",
       "11             0.078773  0.009001  0.000460  0.088233\n",
       "12             0.073057  0.008278  0.000920  0.082255\n",
       "All            0.886604  0.106301  0.007095  1.000000"
      ]
     },
     "execution_count": 118,
     "metadata": {},
     "output_type": "execute_result"
    }
   ],
   "source": [
    "pd.crosstab(timeconverted_df[\"Unfalldatum\"].dt.month, timeconverted_df[\"Unfallschwere\"], normalize=True, margins=True)"
   ]
  },
  {
   "cell_type": "code",
   "execution_count": 126,
   "metadata": {},
   "outputs": [
    {
     "data": {
      "text/plain": [
       "<matplotlib.axes._subplots.AxesSubplot at 0x11b4d2d30>"
      ]
     },
     "execution_count": 126,
     "metadata": {},
     "output_type": "execute_result"
    },
    {
     "data": {
      "image/png": "[encoded data removed]",
      "text/plain": [
       "<Figure size 864x576 with 1 Axes>"
      ]
     },
     "metadata": {
      "needs_background": "light"
     },
     "output_type": "display_data"
    }
   ],
   "source": [
    "plt.figure(figsize=(12,8))\n",
    "\n",
    "sns.countplot(x=timeconverted_df[\"Unfalldatum\"].dt.month, hue=timeconverted_df['Unfallschwere'])"
   ]
  },
  {
   "cell_type": "markdown",
   "metadata": {},
   "source": [
    "<br>\n",
    "It's very hard to conclude something from the data and the plot as it seems that the accident severity is quite stable across the month in terms of numbers. There is a very slight move towards more severe accidents from the late summer months to December. One could hypothesize for the ending months of the year that the weather has an effect on the severity due to snow, glaze etc.. However, this wouldn't apply to the late summer months since there are different weather conditions but one might explain the more severe accidents by the probably increasing number of motorbikes on the street that tend to lead to more severe injuries when involved in an accident. We might verify this when we incorporate the \"Fahrzeugtyp\" column later.  "
   ]
  },
  {
   "cell_type": "markdown",
   "metadata": {},
   "source": [
    "### Feature 'Alter'"
   ]
  },
  {
   "cell_type": "markdown",
   "metadata": {},
   "source": [
    "Let's see what the age distribution regarding the incidents is:\n"
   ]
  },
  {
   "cell_type": "code",
   "execution_count": 155,
   "metadata": {},
   "outputs": [
    {
     "data": {
      "text/plain": [
       "<matplotlib.axes._subplots.AxesSubplot at 0x1240a74e0>"
      ]
     },
     "execution_count": 155,
     "metadata": {},
     "output_type": "execute_result"
    },
    {
     "data": {
      "image/png": "[encoded data removed]",
      "text/plain": [
       "<Figure size 1584x1008 with 1 Axes>"
      ]
     },
     "metadata": {
      "needs_background": "light"
     },
     "output_type": "display_data"
    }
   ],
   "source": [
    "plt.figure(figsize=(22,14))\n",
    "plt.xticks(np.linspace(start=0, stop=100, num=25))\n",
    "\n",
    "sns.distplot(train_df[\"Alter\"].values, bins=100)\n"
   ]
  },
  {
   "cell_type": "markdown",
   "metadata": {},
   "source": [
    "So the age distribution is clearly skewed, that is most of the documented accidents involved persons which are roughly in the age between 18 and 27 years. Also there a little bump at the end of the age scale, between 75 and 83 years. This is no surprise as one can argue that most accidents involve cars and that most accidents with cars happen when people either just started driving at the age of 18 (i.e. less experience) or when overestimating the ability to drive a car is a factor which can be the case for older people. \n",
    "\n",
    "Based on this insight, it would be good to know if the age is correlated with the severity of accidents in any way:"
   ]
  },
  {
   "cell_type": "code",
   "execution_count": 161,
   "metadata": {},
   "outputs": [
    {
     "data": {
      "text/plain": [
       "<matplotlib.axes._subplots.AxesSubplot at 0x1250fb8d0>"
      ]
     },
     "execution_count": 161,
     "metadata": {},
     "output_type": "execute_result"
    },
    {
     "data": {
      "image/png": "[encoded data removed]",
      "text/plain": [
       "<Figure size 864x576 with 2 Axes>"
      ]
     },
     "metadata": {
      "needs_background": "light"
     },
     "output_type": "display_data"
    }
   ],
   "source": [
    "_, axes = plt.subplots(1, 2, sharex=True, figsize=(12,8))\n",
    "sns.boxplot(x=\"Unfallschwere\", y=\"Alter\", data=train_df, ax=axes[0])\n",
    "sns.violinplot(x=\"Unfallschwere\", y=\"Alter\", data=train_df, ax=axes[1])"
   ]
  },
  {
   "cell_type": "markdown",
   "metadata": {},
   "source": [
    "The box plot and the violin plot reveal that accidents tend to be more severe the older the person involved in the accident is. "
   ]
  },
  {
   "cell_type": "code",
   "execution_count": null,
   "metadata": {},
   "outputs": [],
   "source": []
  }
 ],
 "metadata": {
  "kernelspec": {
   "display_name": "Python 3",
   "language": "python",
   "name": "python3"
  },
  "language_info": {
   "codemirror_mode": {
    "name": "ipython",
    "version": 3
   },
   "file_extension": ".py",
   "mimetype": "text/x-python",
   "name": "python",
   "nbconvert_exporter": "python",
   "pygments_lexer": "ipython3",
   "version": "3.6.5"
  }
 },
 "nbformat": 4,
 "nbformat_minor": 2
}
